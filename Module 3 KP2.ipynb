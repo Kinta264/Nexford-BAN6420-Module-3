{
 "cells": [
  {
   "cell_type": "code",
   "execution_count": 55,
   "id": "e3108e55-e76c-4545-ac2f-47ff3c4abc97",
   "metadata": {},
   "outputs": [
    {
     "name": "stdout",
     "output_type": "stream",
     "text": [
      "Lia (Active)\n",
      "Kinta (Active)\n",
      "Reza (Active)\n"
     ]
    }
   ],
   "source": [
    "from datetime import datetime\n",
    "\n",
    "class PolicyHolder:\n",
    "    def __init__(self, holder_id, name, email):\n",
    "        self.holder_id = holder_id\n",
    "        self.name = name\n",
    "        self.email = email\n",
    "        self.active = True\n",
    "        self.policies = []\n",
    "\n",
    "    def suspend(self):\n",
    "        self.active = False\n",
    "\n",
    "    def activate(self):\n",
    "        self.active = True\n",
    "\n",
    "    def add_policy(self, policy):\n",
    "        self.policies.append(policy)\n",
    "\n",
    "    def __str__(self):\n",
    "        return f\"{self.name} ({'Active' if self.active else 'Suspended'})\"\n",
    "\n",
    "class PolicyProduct:\n",
    "    def __init__(self, product_id, name, premium, coverage):\n",
    "        self.product_id = product_id\n",
    "        self.name = name\n",
    "        self.premium = premium\n",
    "        self.coverage = coverage\n",
    "        self.active = True  \n",
    "\n",
    "    def suspend(self):\n",
    "        self.active = False\n",
    "\n",
    "    def activate(self):\n",
    "        self.active = True\n",
    "    def __str__(self):\n",
    "        status = \"Active\" if self.active else \"Suspended\"\n",
    "        return f\"{self.name} - Premium: ${self.premium}, Coverage: {self.coverage} ({status})\"\n",
    "\n",
    "\n",
    "class PolicyManagementSystem:\n",
    "    def __init__(self):\n",
    "        self.policyholders = {}\n",
    "        self.products = {}\n",
    "\n",
    "    def add_policyholder(self, holder_id, name, email):\n",
    "        self.policyholders[holder_id] = PolicyHolder(holder_id, name, email)\n",
    "\n",
    "    def suspend_policyholder(self, holder_id):\n",
    "        if holder_id in self.policyholders:\n",
    "            self.policyholders[holder_id].suspend()\n",
    "\n",
    "    def register_product(self, product_id, name, premium, coverage):\n",
    "        self.products[product_id] = PolicyProduct(product_id, name, premium, coverage)\n",
    "\n",
    "    def assign_policy(self, holder_id, product_id):\n",
    "        if holder_id in self.policyholders and product_id in self.products:\n",
    "            self.policyholders[holder_id].add_policy(self.products[product_id])\n",
    "\n",
    "    def suspend_product(self, product_id):\n",
    "        if product_id in self.products:\n",
    "            self.products[product_id].suspend()\n",
    "        else:\n",
    "            print(\"Product not found.\")\n",
    "\n",
    "    def reactivate_product(self, product_id):\n",
    "        if product_id in self.products:\n",
    "            self.products[product_id].activate()\n",
    "        else:\n",
    "            print(\"Product not found.\")\n",
    "\n",
    "\n",
    "    def show_all_assigned_policies(self):\n",
    "        for holder_id, holder in self.policyholders.items():\n",
    "            print(f\"\\nPolicyholder: {holder.name} (ID: {holder_id})\")\n",
    "            if holder.policies:\n",
    "                for policy in holder.policies:\n",
    "                    print(f\"  - {policy}\")\n",
    "            else:\n",
    "                print(\"  No policies assigned.\")\n",
    "\n",
    "    def get_policyholder_info(self, holder_id):\n",
    "        return str(self.policyholders.get(holder_id, \"Policyholder not found\"))\n",
    "\n",
    "#to manage the interactions\n",
    "pms = PolicyManagementSystem()\n",
    "\n",
    "# Add policyholders\n",
    "pms.add_policyholder(\"PH025\", \"Lia\", \"lia@example.com\")\n",
    "pms.add_policyholder(\"PH026\", \"Kinta\", \"kinta@example.com\")\n",
    "pms.add_policyholder(\"PH029\", \"Reza\", \"reza@example.com\")\n",
    "\n",
    "# Register products\n",
    "pms.register_product(\"P001\", \"Health Insurance\", 1000, \"Medical\")\n",
    "pms.register_product(\"P002\", \"Life Insurance\", 2000, \"Life\")\n",
    "\n",
    "# Assign policies\n",
    "pms.assign_policy(\"PH026\", \"P001\")\n",
    "pms.assign_policy(\"PH029\", \"P002\")\n",
    "\n",
    "# Display info\n",
    "print(pms.get_policyholder_info(\"PH025\"))\n",
    "print(pms.get_policyholder_info(\"PH026\"))\n",
    "print(pms.get_policyholder_info(\"PH029\"))"
   ]
  },
  {
   "cell_type": "code",
   "execution_count": 56,
   "id": "cc8b05ee-5b52-4639-854c-2eb70718f484",
   "metadata": {},
   "outputs": [
    {
     "name": "stdout",
     "output_type": "stream",
     "text": [
      "\n",
      "Policyholder: Lia (ID: PH025)\n",
      "  No policies assigned.\n",
      "\n",
      "Policyholder: Kinta (ID: PH026)\n",
      "  - Health Insurance - Premium: $1000, Coverage: Medical (Active)\n",
      "\n",
      "Policyholder: Reza (ID: PH029)\n",
      "  - Life Insurance - Premium: $2000, Coverage: Life (Active)\n"
     ]
    }
   ],
   "source": [
    "# Show all assigned policies\n",
    "pms.show_all_assigned_policies()"
   ]
  },
  {
   "cell_type": "code",
   "execution_count": 57,
   "id": "0c739929-5965-4986-a831-43e6510dd346",
   "metadata": {},
   "outputs": [],
   "source": [
    "# Assign policies\n",
    "pms.assign_policy(\"PH025\", \"P002\")"
   ]
  },
  {
   "cell_type": "code",
   "execution_count": 58,
   "id": "0dc7148a-3fff-4a9c-985d-41604654e07b",
   "metadata": {},
   "outputs": [
    {
     "name": "stdout",
     "output_type": "stream",
     "text": [
      "\n",
      "Policyholder: Lia (ID: PH025)\n",
      "  - Life Insurance - Premium: $2000, Coverage: Life (Active)\n",
      "\n",
      "Policyholder: Kinta (ID: PH026)\n",
      "  - Health Insurance - Premium: $1000, Coverage: Medical (Active)\n",
      "\n",
      "Policyholder: Reza (ID: PH029)\n",
      "  - Life Insurance - Premium: $2000, Coverage: Life (Active)\n"
     ]
    }
   ],
   "source": [
    "# Show all assigned policies\n",
    "pms.show_all_assigned_policies()"
   ]
  },
  {
   "cell_type": "code",
   "execution_count": 59,
   "id": "21ac7f07-71b3-4d0b-9ae0-fcc09ff1d20e",
   "metadata": {},
   "outputs": [],
   "source": [
    "# Suspend a product\n",
    "pms.suspend_product(\"P002\")"
   ]
  },
  {
   "cell_type": "code",
   "execution_count": 60,
   "id": "1870c2a3-e95a-4ab3-a1ec-54123c17cfb1",
   "metadata": {},
   "outputs": [
    {
     "name": "stdout",
     "output_type": "stream",
     "text": [
      "\n",
      "Policyholder: Lia (ID: PH025)\n",
      "  - Life Insurance - Premium: $2000, Coverage: Life (Suspended)\n",
      "\n",
      "Policyholder: Kinta (ID: PH026)\n",
      "  - Health Insurance - Premium: $1000, Coverage: Medical (Active)\n",
      "\n",
      "Policyholder: Reza (ID: PH029)\n",
      "  - Life Insurance - Premium: $2000, Coverage: Life (Suspended)\n"
     ]
    }
   ],
   "source": [
    "# Show all assigned policies\n",
    "pms.show_all_assigned_policies()"
   ]
  },
  {
   "cell_type": "code",
   "execution_count": 61,
   "id": "8331d357-a9c3-4534-a8c5-98d3b7bcfbc5",
   "metadata": {},
   "outputs": [
    {
     "name": "stdout",
     "output_type": "stream",
     "text": [
      "Life Insurance - Premium: $2000, Coverage: Life (Active)\n"
     ]
    }
   ],
   "source": [
    "# Reactivate a suspended product\n",
    "pms.reactivate_product(\"P002\")\n",
    "\n",
    "# Check product status\n",
    "print(pms.products[\"P002\"])"
   ]
  },
  {
   "cell_type": "code",
   "execution_count": 62,
   "id": "fc7a1cf1-6d5f-4007-ae94-903db5e08a59",
   "metadata": {},
   "outputs": [
    {
     "name": "stdout",
     "output_type": "stream",
     "text": [
      "\n",
      "Policyholder: Lia (ID: PH025)\n",
      "  - Life Insurance - Premium: $2000, Coverage: Life (Active)\n",
      "\n",
      "Policyholder: Kinta (ID: PH026)\n",
      "  - Health Insurance - Premium: $1000, Coverage: Medical (Active)\n",
      "\n",
      "Policyholder: Reza (ID: PH029)\n",
      "  - Life Insurance - Premium: $2000, Coverage: Life (Active)\n"
     ]
    }
   ],
   "source": [
    "# Show all assigned policies\n",
    "pms.show_all_assigned_policies()"
   ]
  },
  {
   "cell_type": "code",
   "execution_count": null,
   "id": "46bb1f8e-d461-41f7-bf3c-8267758e0341",
   "metadata": {},
   "outputs": [],
   "source": []
  }
 ],
 "metadata": {
  "kernelspec": {
   "display_name": "Python 3 (ipykernel)",
   "language": "python",
   "name": "python3"
  },
  "language_info": {
   "codemirror_mode": {
    "name": "ipython",
    "version": 3
   },
   "file_extension": ".py",
   "mimetype": "text/x-python",
   "name": "python",
   "nbconvert_exporter": "python",
   "pygments_lexer": "ipython3",
   "version": "3.13.5"
  }
 },
 "nbformat": 4,
 "nbformat_minor": 5
}
