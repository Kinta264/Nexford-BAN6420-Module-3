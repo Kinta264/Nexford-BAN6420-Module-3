{
 "cells": [
  {
   "cell_type": "code",
   "execution_count": 24,
   "id": "e3108e55-e76c-4545-ac2f-47ff3c4abc97",
   "metadata": {},
   "outputs": [
    {
     "name": "stdout",
     "output_type": "stream",
     "text": [
      "Lia (Active)\n",
      "Kinta (Active)\n",
      "Reza (Active)\n"
     ]
    }
   ],
   "source": [
    "from datetime import datetime\n",
    "\n",
    "class PolicyHolder:\n",
    "    def __init__(self, holder_id, name, email):\n",
    "        self.holder_id = holder_id\n",
    "        self.name = name\n",
    "        self.email = email\n",
    "        self.active = True\n",
    "        self.policies = []\n",
    "\n",
    "    def suspend(self):\n",
    "        self.active = False\n",
    "\n",
    "    def activate(self):\n",
    "        self.active = True\n",
    "\n",
    "    def add_policy(self, policy):\n",
    "        self.policies.append(policy)\n",
    "\n",
    "    def __str__(self):\n",
    "        return f\"{self.name} ({'Active' if self.active else 'Suspended'})\"\n",
    "\n",
    "class PolicyManagementSystem:\n",
    "    def __init__(self):\n",
    "        self.policyholders = {}\n",
    "\n",
    "    def add_policyholder(self, holder_id, name, email):\n",
    "        self.policyholders[holder_id] = PolicyHolder(holder_id, name, email)\n",
    "\n",
    "    def suspend_policyholder(self, holder_id):\n",
    "        if holder_id in self.policyholders:\n",
    "            self.policyholders[holder_id].suspend()\n",
    "    \n",
    "    def reactivate_policyholder(self, holder_id):\n",
    "        if holder_id in self.policyholders:\n",
    "            self.policyholders[holder_id].activate()\n",
    "        else:\n",
    "            print(\"Policyholder not found.\")\n",
    "\n",
    "    def get_policyholder_info(self, holder_id):\n",
    "        return str(self.policyholders.get(holder_id, \"Policyholder not found\"))\n",
    "\n",
    "#to manage the interactions\n",
    "pms = PolicyManagementSystem()\n",
    "\n",
    "# Add policyholders\n",
    "pms.add_policyholder(\"PH025\", \"Lia\", \"lia@example.com\")\n",
    "pms.add_policyholder(\"PH026\", \"Kinta\", \"kinta@example.com\")\n",
    "pms.add_policyholder(\"PH029\", \"Reza\", \"reza@example.com\")\n",
    "\n",
    "# Display info\n",
    "print(pms.get_policyholder_info(\"PH025\"))\n",
    "print(pms.get_policyholder_info(\"PH026\"))\n",
    "print(pms.get_policyholder_info(\"PH029\"))"
   ]
  },
  {
   "cell_type": "code",
   "execution_count": 25,
   "id": "cc8b05ee-5b52-4639-854c-2eb70718f484",
   "metadata": {},
   "outputs": [
    {
     "name": "stdout",
     "output_type": "stream",
     "text": [
      "Policyholder not found\n"
     ]
    }
   ],
   "source": [
    "# Display info for non-registered holder\n",
    "print(pms.get_policyholder_info(\"PH030\"))"
   ]
  },
  {
   "cell_type": "code",
   "execution_count": 26,
   "id": "358334b4-dd30-41c2-8d75-888bb73d448c",
   "metadata": {},
   "outputs": [
    {
     "name": "stdout",
     "output_type": "stream",
     "text": [
      "Lia (Active)\n",
      "Kinta (Suspended)\n",
      "Reza (Active)\n"
     ]
    }
   ],
   "source": [
    "# Suspend a policyholder\n",
    "pms.suspend_policyholder(\"PH026\")\n",
    "\n",
    "# Display info\n",
    "print(pms.get_policyholder_info(\"PH025\"))\n",
    "print(pms.get_policyholder_info(\"PH026\"))\n",
    "print(pms.get_policyholder_info(\"PH029\"))"
   ]
  },
  {
   "cell_type": "code",
   "execution_count": 27,
   "id": "cd8c2e0a-f12b-4170-9670-f6cdda8e613a",
   "metadata": {},
   "outputs": [
    {
     "name": "stdout",
     "output_type": "stream",
     "text": [
      "Lia (Active)\n",
      "Kinta (Active)\n",
      "Reza (Active)\n"
     ]
    }
   ],
   "source": [
    "# Reactivate a suspended policyholder\n",
    "pms.reactivate_policyholder(\"PH026\")\n",
    "\n",
    "# Display info\n",
    "print(pms.get_policyholder_info(\"PH025\"))\n",
    "print(pms.get_policyholder_info(\"PH026\"))\n",
    "print(pms.get_policyholder_info(\"PH029\"))"
   ]
  },
  {
   "cell_type": "code",
   "execution_count": null,
   "id": "a5b89926-62de-45bd-9e3c-9d9b9c8a7048",
   "metadata": {},
   "outputs": [],
   "source": []
  }
 ],
 "metadata": {
  "kernelspec": {
   "display_name": "Python 3 (ipykernel)",
   "language": "python",
   "name": "python3"
  },
  "language_info": {
   "codemirror_mode": {
    "name": "ipython",
    "version": 3
   },
   "file_extension": ".py",
   "mimetype": "text/x-python",
   "name": "python",
   "nbconvert_exporter": "python",
   "pygments_lexer": "ipython3",
   "version": "3.13.5"
  }
 },
 "nbformat": 4,
 "nbformat_minor": 5
}
